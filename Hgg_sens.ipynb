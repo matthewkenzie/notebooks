{
 "cells": [
  {
   "cell_type": "code",
   "execution_count": 1,
   "id": "editorial-matthew",
   "metadata": {},
   "outputs": [],
   "source": [
    "## 10000 events gets me to 5 sigma (5.07) with S+B vs B-only separation\n",
    "## 50000 events gets me to 5 sigma (5.13) with B-only rejection"
   ]
  },
  {
   "cell_type": "code",
   "execution_count": 2,
   "id": "looking-sugar",
   "metadata": {},
   "outputs": [],
   "source": [
    "## try H->gg case\n",
    "import numpy as np\n",
    "from numba_stats import expon_pdf, expon_cdf, norm_pdf, norm_cdf\n",
    "from scipy.stats import truncexpon, truncnorm\n",
    "import matplotlib.pyplot as plt\n",
    "np.random.seed(210187)\n",
    "\n",
    "mrange = (100,160)\n",
    "mbins = 50\n",
    "lb = 40\n",
    "mu = 125\n",
    "sg = 1\n",
    "f = 0.01\n",
    "\n",
    "# define normalised s+b pdfs with rapid evaluation from numba_stats\n",
    "def spdf(x,mu=mu,sg=sg):\n",
    "    sn = np.diff( norm_cdf(mrange,mu,sg) )\n",
    "    return norm_pdf(x,mu,sg) / sn\n",
    "\n",
    "def bpdf(x,lb=lb):\n",
    "    bn = np.diff( expon_cdf(mrange,mrange[0],lb) )\n",
    "    return expon_pdf(x,mrange[0],lb) / bn\n",
    "    \n",
    "# also make definitions using scipy stats that can be used for generation\n",
    "sig = truncnorm( (mrange[0]-mu)/sg, (mrange[1]-mu)/sg, mu, sg)\n",
    "bkg = truncexpon( (mrange[1]-mrange[0])/lb, mrange[0], lb)\n"
   ]
  },
  {
   "cell_type": "code",
   "execution_count": 3,
   "id": "built-steps",
   "metadata": {},
   "outputs": [
    {
     "data": {
      "image/png": "[encoded data removed]",
      "text/plain": [
       "<Figure size 432x288 with 1 Axes>"
      ]
     },
     "metadata": {
      "needs_background": "light"
     },
     "output_type": "display_data"
    }
   ],
   "source": [
    "# better plot these to check they do what we want\n",
    "\n",
    "x = np.linspace(mrange[0],mrange[1],200)\n",
    "\n",
    "\n",
    "s = f * spdf(x)\n",
    "b = (1-f) * bpdf(x)\n",
    "\n",
    "fig, ax = plt.subplots()\n",
    "ax.plot(x, f * spdf(x), 'r--', label='S numba-stats')\n",
    "ax.plot(x, (1-f) * bpdf(x), 'b--', label='B numba-stats')\n",
    "ax.plot(x, f*sig.pdf(x), 'g:', label='S scipy.stats')\n",
    "ax.plot(x, (1-f)*bkg.pdf(x), 'm:', label='B scipy.stats')\n",
    "ax.plot(x, s+b, 'k-', label='Both')\n",
    "ax.legend()\n",
    "_ = ax.set_xlabel('$m(\\gamma\\gamma)$ [GeV]')\n",
    "\n"
   ]
  },
  {
   "cell_type": "code",
   "execution_count": 4,
   "id": "developmental-facing",
   "metadata": {},
   "outputs": [
    {
     "data": {
      "image/png": "[encoded data removed]",
      "text/plain": [
       "<Figure size 432x288 with 1 Axes>"
      ]
     },
     "metadata": {
      "needs_background": "light"
     },
     "output_type": "display_data"
    }
   ],
   "source": [
    "## generate s+b large samples (with poisson variation)\n",
    "n = 10000\n",
    "# use scipy stats for this\n",
    "bkg_toy = bkg.rvs(size=np.random.poisson((1-f)*n))\n",
    "sig_toy = sig.rvs(size=np.random.poisson(f*n))\n",
    "toy = np.append(bkg_toy,sig_toy)\n",
    "\n",
    "fig, ax = plt.subplots()\n",
    "_ = ax.hist([bkg_toy,sig_toy], stacked=True, range=mrange, bins=mbins)\n",
    "#w, xe = np.histogram( toy, range=mrange, bins=mbins)\n",
    "#cx = 0.5*(xe[1:]+xe[:-1])\n",
    "#ax.errorbar(cx,w,yerr=w**0.5,fmt='ko', ms=2, capsize=2)\n"
   ]
  },
  {
   "cell_type": "code",
   "execution_count": 5,
   "id": "national-great",
   "metadata": {},
   "outputs": [],
   "source": [
    "## fit the large sample unbinned to see if the LLR gets us 5 sigma\n",
    "from iminuit import Minuit\n",
    "from iminuit.cost import ExtendedUnbinnedNLL\n",
    "\n",
    "# pdf for minuit (using numba-stats here gives supreme performance)\n",
    "def pdf(x,ns,mu,sg,nb,lb):\n",
    "    sig = spdf(x,mu,sg)\n",
    "    bkg = bpdf(x,lb)\n",
    "    return (ns+nb, ns*sig+nb*bkg)\n",
    "\n",
    "m = Minuit( ExtendedUnbinnedNLL( toy, pdf ),\n",
    "            ns = (1-f)*n,\n",
    "            nb = f*n,\n",
    "            mu = 125,\n",
    "            sg = 1, \n",
    "            lb = 40\n",
    "          )\n",
    "\n",
    "m.limits['ns'] = (1,n)\n",
    "m.limits['nb'] = (1,n)\n",
    "m.limits['mu'] = mrange\n",
    "m.limits['sg'] = (0,2)\n",
    "m.limits['lb'] = (5,100)"
   ]
  },
  {
   "cell_type": "code",
   "execution_count": 6,
   "id": "satisfied-cleaners",
   "metadata": {},
   "outputs": [
    {
     "name": "stdout",
     "output_type": "stream",
     "text": [
      "######### SIGNAL + BACKGROUND FIT ########\n",
      "┌──────────────────────────────────┬──────────────────────────────────────┐\n",
      "│ FCN = -8.492e+04                 │              Nfcn = 352              │\n",
      "│ EDM = 4.33e-05 (Goal: 0.0002)    │                                      │\n",
      "├───────────────┬──────────────────┼──────────────────────────────────────┤\n",
      "│ Valid Minimum │ Valid Parameters │       SOME Parameters at limit       │\n",
      "├───────────────┴──────────────────┼──────────────────────────────────────┤\n",
      "│ Below EDM threshold (goal x 10)  │           Below call limit           │\n",
      "├───────────────┬──────────────────┼───────────┬─────────────┬────────────┤\n",
      "│  Covariance   │     Hesse ok     │ Accurate  │  Pos. def.  │ Not forced │\n",
      "└───────────────┴──────────────────┴───────────┴─────────────┴────────────┘\n",
      "┌───┬──────┬───────────┬───────────┬────────────┬────────────┬─────────┬─────────┬───────┐\n",
      "│   │ Name │   Value   │ Hesse Err │ Minos Err- │ Minos Err+ │ Limit-  │ Limit+  │ Fixed │\n",
      "├───┼──────┼───────────┼───────────┼────────────┼────────────┼─────────┼─────────┼───────┤\n",
      "│ 0 │ ns   │    120    │    40     │            │            │    1    │  10000  │       │\n",
      "│ 1 │ mu   │   125.6   │    0.7    │            │            │   100   │   160   │       │\n",
      "│ 2 │ sg   │    1.7    │    0.5    │            │            │    0    │    2    │       │\n",
      "│ 3 │ nb   │  9.96e3   │  0.11e3   │            │            │    1    │  10000  │       │\n",
      "│ 4 │ lb   │   40.1    │    1.0    │            │            │    5    │   100   │       │\n",
      "└───┴──────┴───────────┴───────────┴────────────┴────────────┴─────────┴─────────┴───────┘\n",
      "┌────┬───────────────────────────────────────────────────┐\n",
      "│    │        ns        mu        sg        nb        lb │\n",
      "├────┼───────────────────────────────────────────────────┤\n",
      "│ ns │  1.77e+03     -3.18      12.6 -1.65e+03     -2.54 │\n",
      "│ mu │     -3.18     0.455   -0.0671       3.2   -0.0259 │\n",
      "│ sg │      12.6   -0.0671     0.331     -12.7   -0.0164 │\n",
      "│ nb │ -1.65e+03       3.2     -12.7  1.17e+04      2.55 │\n",
      "│ lb │     -2.54   -0.0259   -0.0164      2.55     0.967 │\n",
      "└────┴───────────────────────────────────────────────────┘\n",
      "######### BACKGROUND ONLY FIT ########\n",
      "┌──────────────────────────────────┬──────────────────────────────────────┐\n",
      "│ FCN = -8.491e+04                 │              Nfcn = 392              │\n",
      "│ EDM = 6.01e-05 (Goal: 0.0002)    │                                      │\n",
      "├───────────────┬──────────────────┼──────────────────────────────────────┤\n",
      "│ Valid Minimum │ Valid Parameters │       SOME Parameters at limit       │\n",
      "├───────────────┴──────────────────┼──────────────────────────────────────┤\n",
      "│ Below EDM threshold (goal x 10)  │           Below call limit           │\n",
      "├───────────────┬──────────────────┼───────────┬─────────────┬────────────┤\n",
      "│  Covariance   │     Hesse ok     │ Accurate  │  Pos. def.  │ Not forced │\n",
      "└───────────────┴──────────────────┴───────────┴─────────────┴────────────┘\n",
      "┌───┬──────┬───────────┬───────────┬────────────┬────────────┬─────────┬─────────┬───────┐\n",
      "│   │ Name │   Value   │ Hesse Err │ Minos Err- │ Minos Err+ │ Limit-  │ Limit+  │ Fixed │\n",
      "├───┼──────┼───────────┼───────────┼────────────┼────────────┼─────────┼─────────┼───────┤\n",
      "│ 0 │ ns   │     0     │    40     │            │            │    1    │  10000  │  yes  │\n",
      "│ 1 │ mu   │   125.6   │    0.7    │            │            │   100   │   160   │  yes  │\n",
      "│ 2 │ sg   │    1.7    │    0.5    │            │            │    0    │    2    │  yes  │\n",
      "│ 3 │ nb   │  10.00e3  │  0.06e3   │            │            │    1    │  10000  │       │\n",
      "│ 4 │ lb   │   40.3    │    1.0    │            │            │    5    │   100   │       │\n",
      "└───┴──────┴───────────┴───────────┴────────────┴────────────┴─────────┴─────────┴───────┘\n",
      "┌────┬───────────────────────────────────────────────────┐\n",
      "│    │        ns        mu        sg        nb        lb │\n",
      "├────┼───────────────────────────────────────────────────┤\n",
      "│ ns │         0         0         0         0         0 │\n",
      "│ mu │         0         0         0         0         0 │\n",
      "│ sg │         0         0         0         0         0 │\n",
      "│ nb │         0         0         0      0.93 -2.54e-06 │\n",
      "│ lb │         0         0         0 -2.54e-06     0.968 │\n",
      "└────┴───────────────────────────────────────────────────┘\n"
     ]
    }
   ],
   "source": [
    "# fit signal + background only\n",
    "m.fixed['ns'] = False\n",
    "m.fixed['mu'] = False\n",
    "m.fixed['sg'] = False\n",
    "m.migrad()\n",
    "m.hesse()\n",
    "print(\"######### SIGNAL + BACKGROUND FIT ########\")\n",
    "print(m)\n",
    "sb_vals = np.array(m.values)\n",
    "sb_errs = np.array(m.errors)\n",
    "sb_fval = float(m.fval)\n",
    "\n",
    "\n",
    "# fit background only\n",
    "m.values['ns'] = 0\n",
    "m.fixed['ns'] = True\n",
    "m.fixed['mu'] = True\n",
    "m.fixed['sg'] = True\n",
    "m.migrad()\n",
    "m.hesse()\n",
    "print(\"######### BACKGROUND ONLY FIT ########\")\n",
    "print(m)\n",
    "bo_vals = np.array(m.values)\n",
    "bo_errs = np.array(m.errors)\n",
    "bo_fval = float(m.fval)\n"
   ]
  },
  {
   "cell_type": "code",
   "execution_count": 7,
   "id": "distant-debut",
   "metadata": {},
   "outputs": [
    {
     "data": {
      "image/png": "[encoded data removed]",
      "text/plain": [
       "<Figure size 432x288 with 1 Axes>"
      ]
     },
     "metadata": {
      "needs_background": "light"
     },
     "output_type": "display_data"
    }
   ],
   "source": [
    "fig, ax = plt.subplots()\n",
    "w, xe = np.histogram( toy, range=mrange, bins=mbins)\n",
    "cx = 0.5*(xe[1:]+xe[:-1])\n",
    "ax.errorbar(cx,w,yerr=w**0.5,fmt='ko', ms=2, capsize=2, label='Toy')\n",
    "\n",
    "x = np.linspace(*mrange,400)\n",
    "norm = (mrange[1]-mrange[0])/mbins\n",
    "sb_sig = norm*sb_vals[m.var2pos['ns']]*spdf(x, sb_vals[m.var2pos['mu']], sb_vals[m.var2pos['sg']])\n",
    "sb_bkg = norm*sb_vals[m.var2pos['nb']]*bpdf(x, sb_vals[m.var2pos['lb']])\n",
    "bo_bkg = norm*bo_vals[m.var2pos['nb']]*bpdf(x, bo_vals[m.var2pos['lb']])\n",
    "\n",
    "ax.plot(x, sb_sig, 'r--', label='Signal')\n",
    "ax.plot(x, sb_bkg, 'b--', label='Background')\n",
    "ax.plot(x, sb_sig+sb_bkg, 'k-', label='S+B')\n",
    "ax.plot(x, bo_bkg, 'g:', label='B only')\n",
    "ax.legend()\n",
    "_ = ax.set_xlabel('$m(\\gamma\\gamma)$ [GeV]')\n",
    "_ = ax.set_ylabel('Events / {:.1f} GeV'.format((mrange[1]-mrange[0])/mbins))"
   ]
  },
  {
   "cell_type": "code",
   "execution_count": 8,
   "id": "unlike-pursuit",
   "metadata": {},
   "outputs": [
    {
     "name": "stdout",
     "output_type": "stream",
     "text": [
      "DNLL significance: 5.069165627605778\n",
      "Chi2 significance: 1.846640168530116\n"
     ]
    }
   ],
   "source": [
    "#print(sb_fval)\n",
    "#print(bo_fval)\n",
    "dn2ll = 2*(bo_fval-sb_fval)\n",
    "print('DNLL significance:', dn2ll**0.5)\n",
    "\n",
    "\n",
    "bo_bkg = norm*bo_vals[m.var2pos['nb']]*bpdf(cx, bo_vals[m.var2pos['lb']])\n",
    "chi2 = np.sum( (w-bo_bkg)**2/w )\n",
    "chi2_pdof = chi2 / (mbins-1)\n",
    "#print(chi2)\n",
    "#print(chi2_pdof)\n",
    "\n",
    "from scipy.stats import chi2 as chi2dist\n",
    "pval = 1 - chi2dist.cdf(chi2,(mbins-1))\n",
    "#print(pval)\n",
    "sig = chi2dist.ppf(1-pval,1)**0.5\n",
    "print('Chi2 significance:', sig)\n"
   ]
  },
  {
   "cell_type": "code",
   "execution_count": null,
   "id": "strategic-wound",
   "metadata": {},
   "outputs": [],
   "source": []
  }
 ],
 "metadata": {
  "kernelspec": {
   "display_name": "Python 3",
   "language": "python",
   "name": "python3"
  },
  "language_info": {
   "codemirror_mode": {
    "name": "ipython",
    "version": 3
   },
   "file_extension": ".py",
   "mimetype": "text/x-python",
   "name": "python",
   "nbconvert_exporter": "python",
   "pygments_lexer": "ipython3",
   "version": "3.8.6"
  }
 },
 "nbformat": 4,
 "nbformat_minor": 5
}
