{
 "cells": [
  {
   "cell_type": "code",
   "execution_count": 1,
   "metadata": {},
   "outputs": [
    {
     "name": "stdout",
     "output_type": "stream",
     "text": [
      "Saw 1040 events\n",
      "Expect 1000 background\n",
      "Infer nSig = 40 +/- 32.2490309931942\n",
      "This is 1.24 sigma from 0\n"
     ]
    }
   ],
   "source": [
    "import numpy as np\n",
    "\n",
    "\n",
    "# set expectations and observation\n",
    "expBkg = 1000\n",
    "expSig = 0\n",
    "obs = 1040\n",
    "\n",
    "# assume background is perfectly known\n",
    "sigObs = obs - expBkg\n",
    "sigErr = obs**0.5\n",
    "\n",
    "# significance from zero\n",
    "nsigma = (sigObs/sigErr)\n",
    "\n",
    "print('Saw', obs, 'events')\n",
    "print('Expect', expBkg, 'background')\n",
    "print('Infer nSig =',sigObs,'+/-', sigErr)\n",
    "print('This is', '{:4.2f}'.format(nsigma), 'sigma from 0')\n",
    "\n"
   ]
  },
  {
   "cell_type": "code",
   "execution_count": 2,
   "metadata": {},
   "outputs": [
    {
     "name": "stdout",
     "output_type": "stream",
     "text": [
      "p-value from toys is 0.10591\n",
      "1-sided conversion is 1.25 sigma from 0\n",
      "2-sided conversion is 1.62 sigma from 0\n"
     ]
    }
   ],
   "source": [
    "# now check this with toys\n",
    "\n",
    "# generate some toys from the background only expectation\n",
    "np.random.seed(210187)\n",
    "vals = np.random.poisson(expBkg, size=100000)\n",
    "\n",
    "# compute the p-value of observation (i.e. fraction of toys which are larger than the observation)\n",
    "pval = len(vals[vals>=obs]) / len(vals)\n",
    "\n",
    "# this is the equivalent two-sided p-value\n",
    "#pval = len(vals[(vals>=obs) | (vals<=obs-2*sigObs)]) / len(vals)\n",
    "\n",
    "# convert to sigma using chi2 distribution\n",
    "from scipy.stats import chi2\n",
    "nsigma_1side = (chi2.ppf(1-2*pval,1))**0.5\n",
    "nsigma_2side = (chi2.ppf(1-pval,1))**0.5\n",
    "\n",
    "print('p-value from toys is', pval)\n",
    "print('1-sided conversion is', '{:4.2f}'.format(nsigma_1side), 'sigma from 0')\n",
    "print('2-sided conversion is', '{:4.2f}'.format(nsigma_2side), 'sigma from 0')\n",
    "\n",
    "\n",
    "\n"
   ]
  },
  {
   "cell_type": "code",
   "execution_count": 3,
   "metadata": {},
   "outputs": [
    {
     "data": {
      "image/png": "[encoded data removed]",
      "text/plain": [
       "<Figure size 648x432 with 1 Axes>"
      ]
     },
     "metadata": {
      "needs_background": "light"
     },
     "output_type": "display_data"
    }
   ],
   "source": [
    "# make a plot\n",
    "import matplotlib.pyplot as plt\n",
    "f = plt.figure(figsize=(9,6))\n",
    "h = plt.hist( vals-expBkg, bins=25, alpha=0.5, label='Background Toys' )\n",
    "plt.xlabel('Number of signal events in toys')\n",
    "plt.ylabel('A.U.')\n",
    "ylim = plt.ylim()\n",
    "plt.plot((sigObs,sigObs), (0,ylim[1]), 'k-', label='Observation')\n",
    "plt.text( 0.7, 0.8 ,'$p$-value = {:5.3f}'.format(pval), transform=plt.gca().transAxes)\n",
    "plt.text( 0.7, 0.75,'1-sided = ${:4.2f}\\sigma$'.format(nsigma_1side), transform=plt.gca().transAxes)\n",
    "plt.text( 0.7, 0.7 ,'2-sided = ${:4.2f}\\sigma$'.format(nsigma_2side), transform=plt.gca().transAxes)\n",
    "plt.text( 0.7, 0.65,'$N_s = {:2.0f} \\pm {:2.0f}$'.format(sigObs,sigErr), transform=plt.gca().transAxes)\n",
    "plt.text( 0.7, 0.6 ,'    $= {:4.2f}\\sigma$'.format(nsigma), transform=plt.gca().transAxes)\n",
    "l = plt.legend()\n",
    "plt.tight_layout()\n",
    "plt.savefig('pval.pdf')\n"
   ]
  },
  {
   "cell_type": "code",
   "execution_count": null,
   "metadata": {},
   "outputs": [],
   "source": [
    "# do it the likelihood way\n",
    "def nll(nsig):\n",
    "    return "
   ]
  }
 ],
 "metadata": {
  "kernelspec": {
   "display_name": "Python 3",
   "language": "python",
   "name": "python3"
  },
  "language_info": {
   "codemirror_mode": {
    "name": "ipython",
    "version": 3
   },
   "file_extension": ".py",
   "mimetype": "text/x-python",
   "name": "python",
   "nbconvert_exporter": "python",
   "pygments_lexer": "ipython3",
   "version": "3.8.5"
  }
 },
 "nbformat": 4,
 "nbformat_minor": 4
}
