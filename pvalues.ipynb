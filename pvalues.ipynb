{
 "cells": [
  {
   "cell_type": "markdown",
   "metadata": {},
   "source": [
    "# Computing p-values and converting them to a significance\n",
    "\n",
    "This notebook tries to cover common methods for computing p-values and then how to handle their conversion to a significance. \n",
    "\n",
    "In the examples I have come across in HEP p-values seems to be computed in a few different ways, either using \n",
    "\n",
    " 1.  an asymptotic assumption and/or Wilks' theorem (i.e. the posterior PDF is Gaussian or the $-2\\Delta\\ln L$ is distributed like a $\\chi^2$ \n",
    " 2.  generating toys representing the null hypothesis (e.g. background only) and then computing the p-value as the fraction of toys that fulfill some requirement (this can be the fraction with a larger / smaller parameter value than the one found in data or it can be the fraction with a larger $-2\\Delta\\ln L$ \n",
    " \n",
    "There is then some debate about whether the conversion from p-value to significance should be one-sided or two-sided (I think there is also confusion about what one-sided and two-sided mean so I define what *I mean* by them below). \n",
    "\n",
    "There is one additional caveat worth mentioning which is that when computing the test-statistic (usally a log-likelihood ratio), parameter limits are important. For example it is common in Higgs searches to define the test-statistic as the log-likelihood ratio when the fitted signal is positive and zero otherwise. This means a large fraction of the toys (50%) will have a test-statisics value of zero.\n",
    "\n",
    "### A **one-sided conversion** \n",
    " - assumes the conversion to significance by only integrating one side of the Gaussian distribution (see plot below).\n",
    " - This is commonly used in searches for new resonances (e.g. Higgs) and is the recommendation of the PDG (see Eq. (40.45) and Eq. (40.46) of the [PDG 2020 Statistics Chapter](https://pdg.lbl.gov/2020/reviews/rpp2020-rev-statistics.pdf)) and states\n",
    "\n",
    " $Z = \\Phi^{-1}(1-p)$,\n",
    " \n",
    " where $\\Phi$ is the cummalative distribution of a unit Gaussian and $\\Phi^{-1}$ its inverse, often called the quantile or \"percentage point\", function\n",
    " - Some common tools used to convert a p-value in this way are\n",
    "    - `scipy.stats.norm.ppf(1-p)`\n",
    "    - `ROOT.RooStats.PValueToSignificance(1-p)`\n",
    "    - `scipy.stats.chi2.ppf(1-2*p,1)**0.5`\n",
    "\n",
    "### A **two-sided conversion**\n",
    " - assumes the conversion to significance by considering the p-value as containing both sides of the Gaussian (see plot below)\n",
    " - This is commonly used under the toy generation method when computing the p-value as the fraction of toys with a worse $-2\\Delta\\ln L$ than the data (this is because the $\\ln L$ symmetrises the distribution and thus contains both sides of the Gaussian)\n",
    " - Some common tools used to convert a p-value in this way are\n",
    "    - `scipy.stats.norm.ppf(1-p/2)`\n",
    "    - `ROOT.TMath.ChisquareQuantile(1-p,1)**0.5`\n",
    "    - `scipy.stats.chi2.ppf(1-p,1)**0.5`"
   ]
  },
  {
   "cell_type": "markdown",
   "metadata": {},
   "source": [
    "## A simple example\n",
    "\n",
    "We will assume that the null hypothesis is distributed itself as a unit Gaussian (this could be the value of some physics parameter, $x$, we are fitting for under the SM expectation) and let's say our observation in data is at 3.\n",
    "\n",
    "It seems rather obvious in this case that our <font color=red>significance should be $3\\sigma$</font>.\n",
    "\n",
    "Our p-value is the integral from the observed point to infinity of the distribution\n",
    "\n",
    "$p = \\int_{obs}^{\\infty} f(x) dx$,\n",
    "\n",
    "where in this case $f(x)$ is the unit Gaussian."
   ]
  },
  {
   "cell_type": "code",
   "execution_count": 1,
   "metadata": {},
   "outputs": [
    {
     "name": "stdout",
     "output_type": "stream",
     "text": [
      "pvalue = 0.0013498980316301035\n"
     ]
    },
    {
     "data": {
      "image/png": "[encoded data removed]",
      "text/plain": [
       "<Figure size 432x288 with 1 Axes>"
      ]
     },
     "metadata": {
      "needs_background": "light"
     },
     "output_type": "display_data"
    }
   ],
   "source": [
    "import numpy as np\n",
    "import matplotlib.pyplot as plt\n",
    "from scipy.stats import norm, chi2\n",
    "\n",
    "sm_exp = norm(0,1)\n",
    "data_obs = 3\n",
    "\n",
    "x = np.linspace(-5,5,200)\n",
    "plt.plot(x,sm_exp.pdf(x), 'b-', label='SM expectation')\n",
    "plt.fill_between(x[x>data_obs], 0, sm_exp.pdf(x[x>data_obs]), color='r', label='p-value')\n",
    "plt.plot((data_obs,data_obs), (0,plt.ylim()[1]), 'k-', label='Observation')\n",
    "plt.legend()\n",
    "plt.yscale('log')\n",
    "\n",
    "pval = 1 - sm_exp.cdf(data_obs)\n",
    "print(f'pvalue = {pval}')"
   ]
  },
  {
   "cell_type": "markdown",
   "metadata": {},
   "source": [
    "This gives a p-value of 0.0013 which we can now convert to a significance using our two conversions above"
   ]
  },
  {
   "cell_type": "code",
   "execution_count": 2,
   "metadata": {},
   "outputs": [
    {
     "name": "stdout",
     "output_type": "stream",
     "text": [
      "sigma (1-side): 2.999999999999998\n",
      "sigma (2-side): 3.205154920598932\n"
     ]
    }
   ],
   "source": [
    "sigma_1side = chi2.ppf(1-2*pval,1)**0.5\n",
    "sigma_2side = chi2.ppf(1-pval,1)**0.5\n",
    "\n",
    "print('sigma (1-side):', sigma_1side)\n",
    "print('sigma (2-side):', sigma_2side)"
   ]
  },
  {
   "cell_type": "markdown",
   "metadata": {},
   "source": [
    "Cleary in this case <font color=red>**using a two-sided conversion is wrong**</font>"
   ]
  },
  {
   "cell_type": "markdown",
   "metadata": {},
   "source": [
    "### An alternative using the posterior PDF\n",
    "\n",
    "Sometimes people use the posterior PDF of their observation and test the compatiblity with the null hypothesis to compute a p-value which is a slightly different. In this simple case it equates to largely the same thing.\n",
    "\n",
    "Let's say now our best fit observation is $3\\pm 1$, so our posterior pdf is a Gaussian with unit width centered at 3. We can now ask what the p-value is at the SM expectation of zero. This will give identical results to the above"
   ]
  },
  {
   "cell_type": "markdown",
   "metadata": {},
   "source": [
    "## Computing the p-value from a likelihood fit (and maybe generating toys)\n",
    "\n",
    "This seems to be a much more common method. Typically in particle physics we are using a likelihood fit to extract our parameters of interest.\n",
    "\n",
    "We can extend the example above to incorporate the likelihood fit case (which in reality will of course be much more complicated that the pedagogical example given here)"
   ]
  },
  {
   "cell_type": "markdown",
   "metadata": {},
   "source": [
    "1. Let's mock up a \"likelihood fit\" to our data. \n",
    "   - In this case (we don't actually have to run the fit here because we already know where the minimum is - at our observed value).\n",
    "   - We can then use a simple evaluation of the significance as $\\sqrt{-2\\Delta\\ln L} = 3\\sigma$\n"
   ]
  },
  {
   "cell_type": "code",
   "execution_count": 24,
   "metadata": {},
   "outputs": [
    {
     "name": "stdout",
     "output_type": "stream",
     "text": [
      "DLL in Data:  9.0\n",
      "Significance: 3.0\n"
     ]
    }
   ],
   "source": [
    "data_obs = (3,1)\n",
    "sm_val = 0\n",
    "\n",
    "def nll(exp, obsval, obserr):\n",
    "    n = norm(obsval, obserr)\n",
    "    return -2*n.logpdf(exp)\n",
    "\n",
    "### So the DLL in Data is\n",
    "data_dll = nll(sm_val, data_obs[0], data_obs[1]) - nll(data_obs[0], data_obs[0], data_obs[1])\n",
    "print('DLL in Data: ', data_dll)\n",
    "print('Significance:', data_dll**0.5)"
   ]
  },
  {
   "cell_type": "markdown",
   "metadata": {},
   "source": [
    "2. Let's also try running some toys and computing the DLL for those\n",
    "   - We may be concerned that our likelihood doesn't suitably follow the $\\chi^2$ distribution so we may instead choose to generate toys and then compute the p-value from the fraction which perform worse than the data"
   ]
  },
  {
   "cell_type": "code",
   "execution_count": 31,
   "metadata": {},
   "outputs": [
    {
     "data": {
      "text/plain": [
       "<matplotlib.legend.Legend at 0x7fc9590bdcd0>"
      ]
     },
     "execution_count": 31,
     "metadata": {},
     "output_type": "execute_result"
    },
    {
     "data": {
      "image/png": "[encoded data removed]",
      "text/plain": [
       "<Figure size 432x288 with 1 Axes>"
      ]
     },
     "metadata": {
      "needs_background": "light"
     },
     "output_type": "display_data"
    }
   ],
   "source": [
    "### Generate toys from the SM distribution\n",
    "sm_toys = sm_exp.rvs(size=1000000)\n",
    "\n",
    "### Can plot this distribution with the data observation\n",
    "plt.hist( sm_toys, range=(-5,5), bins=50, label='SM Toys')\n",
    "plt.plot( (data_obs[0],data_obs[0]), (0,plt.ylim()[1]), label='Observation' )\n",
    "plt.legend()"
   ]
  },
  {
   "cell_type": "code",
   "execution_count": 32,
   "metadata": {},
   "outputs": [
    {
     "data": {
      "image/png": "[encoded data removed]",
      "text/plain": [
       "<Figure size 432x288 with 1 Axes>"
      ]
     },
     "metadata": {
      "needs_background": "light"
     },
     "output_type": "display_data"
    }
   ],
   "source": [
    "### Now for each toy we compute the DLL between the toy value and the SM expectation\n",
    "toy_dlls = nll( sm_val, sm_toys, data_obs[1] ) - nll(sm_toys, sm_toys, data_obs[1])\n",
    "\n",
    "## And we can also now plot these\n",
    "plt.hist( toy_dlls, range=(0,10), bins=50, label='SM Toys')\n",
    "plt.plot( (data_dll,data_dll), (0,plt.ylim()[1]), label='Observation')\n",
    "plt.xlabel('$-2\\Delta\\ln L$')\n",
    "plt.legend()\n",
    "plt.yscale('log')"
   ]
  },
  {
   "cell_type": "code",
   "execution_count": 33,
   "metadata": {},
   "outputs": [
    {
     "name": "stdout",
     "output_type": "stream",
     "text": [
      "p-value = 0.002707 +/- 5.195836940282095e-05\n"
     ]
    }
   ],
   "source": [
    "### Now count the fraction of toys above the DLL value in data (this is the p-value)\n",
    "pval = len(toy_dlls[toy_dlls>data_dll])/len(toy_dlls)\n",
    "pval_err = (pval * (1-pval)/len(toy_dlls))**0.5\n",
    "\n",
    "print(f'p-value = {pval} +/- {pval_err}')"
   ]
  },
  {
   "cell_type": "markdown",
   "metadata": {},
   "source": [
    "Notice **this p-value is not the same as the one we computed before**. \n",
    "\n",
    "Infact it's twice as large because now the symmetry of the DLL gives us both sides of the distribution. Perhaps you can see where this is going if we now compute the significances using the two conversions above."
   ]
  },
  {
   "cell_type": "code",
   "execution_count": 34,
   "metadata": {},
   "outputs": [
    {
     "name": "stdout",
     "output_type": "stream",
     "text": [
      "sigma (1-side): 2.7813100687954457\n",
      "sigma (2-side): 2.999188242844609\n"
     ]
    }
   ],
   "source": [
    "sigma_1side = chi2.ppf(1-2*pval,1)**0.5\n",
    "sigma_2side = chi2.ppf(1-pval,1)**0.5\n",
    "\n",
    "print('sigma (1-side):', sigma_1side)\n",
    "print('sigma (2-side):', sigma_2side)"
   ]
  },
  {
   "cell_type": "markdown",
   "metadata": {},
   "source": [
    "Cleary in this case <font color=red>**using a one-sided conversion is wrong**</font>"
   ]
  },
  {
   "cell_type": "markdown",
   "metadata": {},
   "source": [
    "3. Just for completeness we can repeat this computation the way it is done in many searches in which the test-statistic is set to zero if the fitted signal yield is negative\n",
    "    - We can use the same toys and the same DLL values but now for any toys which are <0 we set the DLL=0"
   ]
  },
  {
   "cell_type": "code",
   "execution_count": 42,
   "metadata": {},
   "outputs": [
    {
     "name": "stdout",
     "output_type": "stream",
     "text": [
      "(500194,)\n"
     ]
    },
    {
     "data": {
      "image/png": "[encoded data removed]",
      "text/plain": [
       "<Figure size 432x288 with 1 Axes>"
      ]
     },
     "metadata": {
      "needs_background": "light"
     },
     "output_type": "display_data"
    }
   ],
   "source": [
    "### Now for only positive toys we compute the DLL between the toy value and the SM expectation\n",
    "toy_dlls = nll( sm_val, sm_toys[sm_toys>=0], data_obs[1] ) - nll(sm_toys[sm_toys>=0], sm_toys[sm_toys>=0], data_obs[1])\n",
    "\n",
    "### For all negative toys we just add a DLL value of 0\n",
    "toy_dlls = np.concatenate( [toy_dlls, np.zeros( len(sm_toys[sm_toys<0]))] )\n",
    "\n",
    "## And we can also now plot these\n",
    "plt.hist( toy_dlls, range=(0,10), bins=50, label='SM Toys')\n",
    "plt.plot( (data_dll,data_dll), (0,plt.ylim()[1]), label='Observation')\n",
    "plt.xlabel('$-2\\Delta\\ln L$')\n",
    "plt.legend()\n",
    "plt.yscale('log')"
   ]
  },
  {
   "cell_type": "code",
   "execution_count": 43,
   "metadata": {
    "scrolled": true
   },
   "outputs": [
    {
     "name": "stdout",
     "output_type": "stream",
     "text": [
      "p-value = 0.001384 +/- 3.7176397673792975e-05\n"
     ]
    }
   ],
   "source": [
    "### Now count the fraction of these toys above the DLL value in data (this is the p-value)\n",
    "pval = len(toy_dlls[toy_dlls>data_dll])/len(toy_dlls)\n",
    "pval_err = (pval * (1-pval)/len(toy_dlls))**0.5\n",
    "\n",
    "print(f'p-value = {pval} +/- {pval_err}')"
   ]
  },
  {
   "cell_type": "markdown",
   "metadata": {},
   "source": [
    "Now you can see **this p-value is again the same as the one we got originally**. \n",
    "\n",
    "And so in this case we again need <font color=red>**a one-sided conversion**</font>"
   ]
  },
  {
   "cell_type": "code",
   "execution_count": 46,
   "metadata": {},
   "outputs": [
    {
     "name": "stdout",
     "output_type": "stream",
     "text": [
      "sigma (1-side): 2.9923926466259005\n",
      "sigma (2-side): 3.197967244184969\n"
     ]
    }
   ],
   "source": [
    "sigma_1side = chi2.ppf(1-2*pval,1)**0.5\n",
    "sigma_2side = chi2.ppf(1-pval,1)**0.5\n",
    "\n",
    "print('sigma (1-side):', sigma_1side)\n",
    "print('sigma (2-side):', sigma_2side)"
   ]
  },
  {
   "cell_type": "markdown",
   "metadata": {},
   "source": [
    "# Summary\n",
    "\n",
    "I believe the conversion from a p-value to a significance is **more than just convention**. The conversion you use depends on how you compute the p-value! \n",
    "\n",
    "It is clear to see from the examples above (all of which have example use cases in HEP) that you get a different p-value depending on which question you ask and you get a different significance depending on how you convert it. \n",
    "\n",
    "In this pedagogical example the significance should clearly be $3\\sigma$ which is acheived by a one-sided conversion (if the p-value is computed only considering one-side of the distribution) and by a two-sided conversion (if the p-value is computed considering both sides of the distribution) and consequently I do not believe that one convention fits all."
   ]
  },
  {
   "cell_type": "code",
   "execution_count": null,
   "metadata": {},
   "outputs": [],
   "source": []
  }
 ],
 "metadata": {
  "kernelspec": {
   "display_name": "Python 3",
   "language": "python",
   "name": "python3"
  },
  "language_info": {
   "codemirror_mode": {
    "name": "ipython",
    "version": 3
   },
   "file_extension": ".py",
   "mimetype": "text/x-python",
   "name": "python",
   "nbconvert_exporter": "python",
   "pygments_lexer": "ipython3",
   "version": "3.8.5"
  }
 },
 "nbformat": 4,
 "nbformat_minor": 4
}
