{
 "cells": [
  {
   "cell_type": "markdown",
   "id": "6531a089",
   "metadata": {},
   "source": [
    " - The theory we are asked to test is:\n",
    "\n",
    "$$\n",
    "I = I_0 \\exp \\left( \\frac{V}{V_0} \\right) \\\\\n",
    "$$\n",
    "\n",
    " - Taking the natural log of both sides gives:\n",
    "$$\n",
    "\\ln I = \\ln I_0 + \\frac{V}{V_0}\n",
    "$$\n",
    "\n",
    " - So plot of $V$ *vs.* $\\ln I$ will have gradient $1/V_0$ and intercept $\\ln I_0$"
   ]
  },
  {
   "cell_type": "code",
   "execution_count": 7,
   "id": "7ba50a34",
   "metadata": {},
   "outputs": [],
   "source": [
    "import numpy as np\n",
    "\n",
    "# voltage equally spaced\n",
    "voltage = np.arange(0.30, 0.86, 0.05)\n",
    "\n",
    "# current values from problem sheet\n",
    "current = np.array( [1.4e-7, 9.3e-7, 5.8e-6, 5.1e-5, 2.2e-4, 1.7e-3, 1.5e-2, 7.6e-2, 0.54, 3.6, 12, 25] )\n",
    "\n",
    "# log current\n",
    "ln_current = np.log( current )"
   ]
  },
  {
   "cell_type": "code",
   "execution_count": 9,
   "id": "74a14461",
   "metadata": {},
   "outputs": [
    {
     "data": {
      "text/plain": [
       "[<matplotlib.lines.Line2D at 0x12f86e100>]"
      ]
     },
     "execution_count": 9,
     "metadata": {},
     "output_type": "execute_result"
    },
    {
     "data": {
      "image/png": "[encoded data removed]",
      "text/plain": [
       "<Figure size 640x480 with 1 Axes>"
      ]
     },
     "metadata": {},
     "output_type": "display_data"
    }
   ],
   "source": [
    "# make a plot\n",
    "import matplotlib.pyplot as plt\n",
    "\n",
    "plt.scatter( voltage, ln_current )\n",
    "plt.plot( voltage, ln_current )"
   ]
  },
  {
   "cell_type": "markdown",
   "id": "b419ac9c",
   "metadata": {},
   "source": [
    " - It looks like the linear trend starts to tail off (plateau) at the last two points \n",
    " - So I'll remove the last two points as outliers"
   ]
  },
  {
   "cell_type": "code",
   "execution_count": 10,
   "id": "dab7d79b",
   "metadata": {},
   "outputs": [],
   "source": [
    "ln_current = ln_current[:-2]\n",
    "voltage = voltage[:-2]"
   ]
  },
  {
   "cell_type": "code",
   "execution_count": 21,
   "id": "21ba43f6",
   "metadata": {},
   "outputs": [
    {
     "name": "stdout",
     "output_type": "stream",
     "text": [
      "37.9352885032936 -27.168229622314882\n",
      "[0.15154016] 2 [3.57790226 0.40139181]\n"
     ]
    }
   ],
   "source": [
    "# now perform the least squares regression\n",
    "\n",
    "# add a linear constant term to the design matrix\n",
    "V = np.vstack([voltage, np.ones_like(voltage)]).T\n",
    "\n",
    "# perform the linear regression (inverting matrix)\n",
    "beta, residuals, rank, s = np.linalg.lstsq(V, ln_current, rcond=None)\n",
    "\n",
    "slope, intercept = beta\n",
    "print(slope, intercept)\n",
    "print(residuals, rank, s)"
   ]
  },
  {
   "cell_type": "markdown",
   "id": "9044de60",
   "metadata": {},
   "source": [
    " - to get the standard error on these I can use the standard error of the residuals:\n",
    " $$\n",
    " \\sigma_{R} = \\sqrt{ \\frac{1}{n-2} \\sum_{i=1}^n (y_i - \\hat{y}_i)^2 }\n",
    " $$\n",
    " where $y_i$ is the observed value and $\\hat{y}_i$ is the predicted value"
   ]
  },
  {
   "cell_type": "code",
   "execution_count": 23,
   "id": "1df39e87",
   "metadata": {},
   "outputs": [
    {
     "name": "stdout",
     "output_type": "stream",
     "text": [
      "0.15154016052365624\n"
     ]
    }
   ],
   "source": [
    "ln_current_pred = V @ beta\n",
    "residuals = np.sum( (ln_current - ln_current_pred)**2 )\n",
    "print(residuals)"
   ]
  },
  {
   "cell_type": "markdown",
   "id": "c9cbac76",
   "metadata": {},
   "source": [
    " - the standard error on the slope is\n",
    "$$\n",
    "\\sigma_m = \\frac{ \\sigma_R }{ \\sqrt{ \\sum_{i=1}^n (x_i - \\bar{x})^2} }\n",
    "$$"
   ]
  },
  {
   "cell_type": "code",
   "execution_count": 31,
   "id": "094afe47",
   "metadata": {},
   "outputs": [],
   "source": [
    "sigma_slope = residuals / np.sqrt( np.sum( (voltage - np.mean(voltage))**2 ) )"
   ]
  },
  {
   "cell_type": "markdown",
   "id": "67f49436",
   "metadata": {},
   "source": [
    " - the standard error on the intercept is\n",
    " $$\n",
    " \\sigma_c = \\sigma_R \\sqrt{ \\frac{1}{n} + \\frac{\\bar{x}^2}{ \\sum_{i=1}^n (x_i -\\bar{x})^2 } }\n",
    " $$"
   ]
  },
  {
   "cell_type": "code",
   "execution_count": 33,
   "id": "112e6823",
   "metadata": {},
   "outputs": [],
   "source": [
    "sigma_intercept = residuals * np.sqrt( 1/len(voltage) +\n",
    "                                      np.mean(voltage)**2 / np.sum( (voltage - np.mean(voltage))**2 ) )"
   ]
  },
  {
   "cell_type": "code",
   "execution_count": 36,
   "id": "6edf2ce5",
   "metadata": {},
   "outputs": [
    {
     "name": "stdout",
     "output_type": "stream",
     "text": [
      "Slope:     (37.9 +/- 0.3) / V\n",
      "Intercept: (-27.2 +/- 0.2) A\n"
     ]
    }
   ],
   "source": [
    "# print determined parameters and their errors\n",
    "print(f'Slope:     ({slope:3.1f} +/- {sigma_slope:3.1f}) / V')\n",
    "print(f'Intercept: ({intercept:3.1f} +/- {sigma_intercept:3.1f}) A')"
   ]
  },
  {
   "cell_type": "code",
   "execution_count": 38,
   "id": "14428474",
   "metadata": {},
   "outputs": [
    {
     "name": "stdout",
     "output_type": "stream",
     "text": [
      "V0 = (0.0264 +/- 0.0002) V\n"
     ]
    }
   ],
   "source": [
    "# compute the value of V0 (inverse of gradient)\n",
    "frac_err_slope = sigma_slope / slope\n",
    "V0 = 1 / slope\n",
    "V0_err = frac_err_slope * V0\n",
    "print(f'V0 = ({V0:6.4f} +/- {V0_err:6.4f}) V' )\n"
   ]
  },
  {
   "cell_type": "code",
   "execution_count": null,
   "id": "89085e77",
   "metadata": {},
   "outputs": [],
   "source": []
  }
 ],
 "metadata": {
  "kernelspec": {
   "display_name": "Python 3 (ipykernel)",
   "language": "python",
   "name": "python3"
  },
  "language_info": {
   "codemirror_mode": {
    "name": "ipython",
    "version": 3
   },
   "file_extension": ".py",
   "mimetype": "text/x-python",
   "name": "python",
   "nbconvert_exporter": "python",
   "pygments_lexer": "ipython3",
   "version": "3.9.16"
  }
 },
 "nbformat": 4,
 "nbformat_minor": 5
}
