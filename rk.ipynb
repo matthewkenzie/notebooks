{
 "cells": [
  {
   "cell_type": "code",
   "execution_count": 1,
   "metadata": {},
   "outputs": [
    {
     "name": "stdout",
     "output_type": "stream",
     "text": [
      "DLL in Data: 9.000000000000004\n",
      "Significance =  3.0000000000000004\n"
     ]
    }
   ],
   "source": [
    "import numpy as np\n",
    "from scipy.stats import norm, chi2\n",
    "import matplotlib.pyplot as plt\n",
    "\n",
    "### Function to compute the NLL ###\n",
    "def nll(exp, obsval, obserr):\n",
    "    n = norm(obsval, obserr)\n",
    "    return -2*n.logpdf(exp)\n",
    "\n",
    "### Assume we made this observation ###\n",
    "### I.e. our data fit is RK = 0.7 +/- 0.1\n",
    "data_obs = (0.7,0.1)\n",
    "\n",
    "### Assume the SM expectation is RK = 1\n",
    "sm_exp = 1\n",
    "\n",
    "### So the DLL in Data is\n",
    "data_dll = nll(sm_exp, *data_obs) - nll(data_obs[0], *data_obs)\n",
    "print('DLL in Data:', data_dll)\n",
    "\n",
    "### Using the straightfoward conversion of -2DLL ~ -2DChi2 then the significance is\n",
    "print('Significance = ', data_dll**0.5)"
   ]
  },
  {
   "cell_type": "markdown",
   "metadata": {},
   "source": [
    "So we get in data we $-2\\Delta \\log L = 9$ corresponding to a significance of $3\\sigma$.\n",
    "\n",
    "Quite clearly this is exactly what we expect if the measurement is $R_K = 0.7\\pm 0.1$ and the SM expectation is $R_K =1$"
   ]
  },
  {
   "cell_type": "code",
   "execution_count": 3,
   "metadata": {},
   "outputs": [
    {
     "data": {
      "text/plain": [
       "<matplotlib.legend.Legend at 0x7fe7ec5cb700>"
      ]
     },
     "execution_count": 3,
     "metadata": {},
     "output_type": "execute_result"
    },
    {
     "data": {
      "image/png": "[encoded data removed]",
      "text/plain": [
       "<Figure size 432x288 with 1 Axes>"
      ]
     },
     "metadata": {
      "needs_background": "light"
     },
     "output_type": "display_data"
    }
   ],
   "source": [
    "### Now try what I guess you are doing with the toys\n",
    "\n",
    "### Generate from the SM with the relevant uncertainty (in this case 0.1)\n",
    "sm_dist = norm(sm_exp, data_obs[1])\n",
    "sm_toys = sm_dist.rvs(size=100000)\n",
    "\n",
    "### Can plot this distribution with the data observation\n",
    "plt.hist( sm_toys, range=(0.5,1.5), bins=50, label='SM Toys')\n",
    "plt.plot( (data_obs[0],data_obs[0]), (0,plt.ylim()[1]), label='Observation' )\n",
    "plt.xlabel('$R_K$')\n",
    "plt.legend()"
   ]
  },
  {
   "cell_type": "code",
   "execution_count": 7,
   "metadata": {
    "scrolled": true
   },
   "outputs": [
    {
     "data": {
      "image/png": "[encoded data removed]",
      "text/plain": [
       "<Figure size 432x288 with 1 Axes>"
      ]
     },
     "metadata": {
      "needs_background": "light"
     },
     "output_type": "display_data"
    }
   ],
   "source": [
    "### Now for each toy we compute the DLL between the toy value and the SM expectation\n",
    "toy_dlls = nll( sm_exp, sm_toys, data_obs[1] ) - nll(sm_toys, sm_toys, data_obs[1])\n",
    "\n",
    "## And we can also now plot these\n",
    "plt.hist( toy_dlls, range=(0,10), bins=50, label='SM Toys')\n",
    "plt.plot( (data_dll,data_dll), (0,plt.ylim()[1]), label='Observation')\n",
    "plt.xlabel('$-2\\Delta\\ln L$')\n",
    "plt.legend()\n",
    "plt.yscale('log')"
   ]
  },
  {
   "cell_type": "code",
   "execution_count": 8,
   "metadata": {},
   "outputs": [
    {
     "name": "stdout",
     "output_type": "stream",
     "text": [
      "p-vale = 0.00266 +/- 0.000162878003425877\n"
     ]
    }
   ],
   "source": [
    "### Now count the fraction of toys above the DLL value in data (this is the p-value)\n",
    "pval = len(toy_dlls[toy_dlls>data_dll])/len(toy_dlls)\n",
    "pval_err = (pval * (1-pval)/len(toy_dlls))**0.5\n",
    "\n",
    "print(f'p-value = {pval} +/- {pval_err}')"
   ]
  },
  {
   "cell_type": "code",
   "execution_count": 18,
   "metadata": {
    "scrolled": true
   },
   "outputs": [
    {
     "name": "stdout",
     "output_type": "stream",
     "text": [
      "sigma (1-side): 2.786990734958961\n",
      "sigma (2-side): 3.004520308584539\n"
     ]
    }
   ],
   "source": [
    "### Now convert this p-value into a significance (using either 1 or 2 sided conversion)\n",
    "\n",
    "## Two-sided this should be the equivalent of TMath::ChisquareQuantile(1-pval,1)**0.5\n",
    "sigma_2sided = chi2.ppf(1-pval,1)**0.5\n",
    "\n",
    "## One-sided this should be the equivalent of RooStats::PValueToSignificance or scipy.stats.norm.ppf(1-pval)\n",
    "sigma_1sided = chi2.ppf(1-2*pval,1)**0.5\n",
    "\n",
    "print('sigma (1-side):', sigma_1sided)\n",
    "print('sigma (2-side):', sigma_2sided)"
   ]
  },
  {
   "cell_type": "markdown",
   "metadata": {},
   "source": [
    "So you see here that the 2-sided significance is correct"
   ]
  }
 ],
 "metadata": {
  "kernelspec": {
   "display_name": "Python 3",
   "language": "python",
   "name": "python3"
  },
  "language_info": {
   "codemirror_mode": {
    "name": "ipython",
    "version": 3
   },
   "file_extension": ".py",
   "mimetype": "text/x-python",
   "name": "python",
   "nbconvert_exporter": "python",
   "pygments_lexer": "ipython3",
   "version": "3.8.5"
  }
 },
 "nbformat": 4,
 "nbformat_minor": 4
}
