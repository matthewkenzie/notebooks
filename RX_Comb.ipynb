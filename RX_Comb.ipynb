{
 "cells": [
  {
   "cell_type": "code",
   "execution_count": 14,
   "metadata": {},
   "outputs": [
    {
     "name": "stdout",
     "output_type": "stream",
     "text": [
      "[1.0426148203678018, 1.0122283490752482, 1.0077031426283525, 1.0164947047563841]\n"
     ]
    }
   ],
   "source": [
    "import numpy as np\n",
    "\n",
    "si = np.array([0.065,0.038,0.083,0.054])\n",
    "RX_SM   = np.array([1,1,1,1])\n",
    "toy_cv  = np.array([0.85,0.85,1,0.85])\n",
    "# throw toy from SM\n",
    "xi = np.array([ np.random.normal(val,err) for val, err in zip(toy_cv,si) ])\n",
    "\n",
    "print(RX_cent)"
   ]
  },
  {
   "cell_type": "code",
   "execution_count": 15,
   "metadata": {},
   "outputs": [
    {
     "name": "stdout",
     "output_type": "stream",
     "text": [
      "0.8943064729860053 0.026562494328196743\n",
      "-3.979051278395885\n"
     ]
    }
   ],
   "source": [
    "# Tim says weighted average\n",
    "wi = 1/si**2\n",
    "\n",
    "R = sum( wi*xi )/sum(wi)\n",
    "Rerr = 1/sum(wi)**0.5\n",
    "print(R, Rerr)\n",
    "print((R-1)/Rerr)"
   ]
  },
  {
   "cell_type": "code",
   "execution_count": 16,
   "metadata": {},
   "outputs": [
    {
     "name": "stdout",
     "output_type": "stream",
     "text": [
      "1.2726379841285147\n"
     ]
    }
   ],
   "source": [
    "def n2ll(mu):\n",
    "    return -2*sum( (xi-))\n",
    "\n",
    "def n2ll(obs,err,pred):\n",
    "    return -2*sum( (obs-pred)**2 / err )\n",
    "\n",
    "delta_n2ll = n2ll(xi,si,xi) - n2ll(xi,si,RX_SM)\n",
    "print(delta_n2ll**0.5)"
   ]
  },
  {
   "cell_type": "code",
   "execution_count": null,
   "metadata": {},
   "outputs": [],
   "source": []
  }
 ],
 "metadata": {
  "kernelspec": {
   "display_name": "Python 3",
   "language": "python",
   "name": "python3"
  },
  "language_info": {
   "codemirror_mode": {
    "name": "ipython",
    "version": 3
   },
   "file_extension": ".py",
   "mimetype": "text/x-python",
   "name": "python",
   "nbconvert_exporter": "python",
   "pygments_lexer": "ipython3",
   "version": "3.9.0"
  }
 },
 "nbformat": 4,
 "nbformat_minor": 4
}
